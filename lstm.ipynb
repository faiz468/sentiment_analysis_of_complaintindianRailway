{
 "cells": [
  {
   "cell_type": "code",
   "execution_count": 3,
   "id": "c69e0343",
   "metadata": {},
   "outputs": [],
   "source": [
    "import numpy as np\n",
    "import pandas as pd\n",
    "from sklearn.model_selection import train_test_split\n",
    "from keras.preprocessing.text import Tokenizer\n",
    "# from keras.preprocessing.sequence import pad_sequences\n",
    "from tensorflow.keras.preprocessing.sequence import pad_sequences\n",
    "from keras.layers import Embedding, LSTM, Dense\n",
    "from keras.models import Sequential"
   ]
  },
  {
   "cell_type": "code",
   "execution_count": 8,
   "id": "6824135b",
   "metadata": {},
   "outputs": [],
   "source": [
    "# Load dataset\n",
    "data = pd.read_csv('complaintsdata.csv')"
   ]
  },
  {
   "cell_type": "code",
   "execution_count": 17,
   "id": "e167f5a5",
   "metadata": {},
   "outputs": [
    {
     "data": {
      "text/plain": [
       "array(['apparel', 'electronics', 'other', 'food', 'software', 'cars',\n",
       "       'retail', 'services', 'random_tweet', 'random_reply', 'transport'],\n",
       "      dtype=object)"
      ]
     },
     "execution_count": 17,
     "metadata": {},
     "output_type": "execute_result"
    }
   ],
   "source": [
    "data['l2'].unique()\n"
   ]
  },
  {
   "cell_type": "code",
   "execution_count": 10,
   "id": "d62ae0fb",
   "metadata": {},
   "outputs": [],
   "source": [
    "# Preprocessing\n",
    "tokenizer = Tokenizer(num_words=5000)\n",
    "tokenizer.fit_on_texts(data['text'])\n",
    "X = tokenizer.texts_to_sequences(data['text'])\n",
    "X = pad_sequences(X, maxlen=100)"
   ]
  },
  {
   "cell_type": "code",
   "execution_count": 11,
   "id": "2d7ad281",
   "metadata": {},
   "outputs": [],
   "source": [
    "# Train-Test Split\n",
    "y = pd.get_dummies(data['l2']).values\n",
    "X_train, X_test, y_train, y_test = train_test_split(X, y, test_size=0.2, random_state=42)"
   ]
  },
  {
   "cell_type": "code",
   "execution_count": 12,
   "id": "de13294a",
   "metadata": {},
   "outputs": [],
   "source": [
    "# Word Embedding\n",
    "embedding_matrix = np.random.rand(5000, 100)\n",
    "embedding_layer = Embedding(5000, 100, weights=[embedding_matrix], input_length=100, trainable=False)\n"
   ]
  },
  {
   "cell_type": "code",
   "execution_count": 18,
   "id": "2b9a353b",
   "metadata": {},
   "outputs": [
    {
     "name": "stdout",
     "output_type": "stream",
     "text": [
      "Model: \"sequential_1\"\n",
      "_________________________________________________________________\n",
      " Layer (type)                Output Shape              Param #   \n",
      "=================================================================\n",
      " embedding (Embedding)       (None, 100, 100)          500000    \n",
      "                                                                 \n",
      " lstm_1 (LSTM)               (None, 100)               80400     \n",
      "                                                                 \n",
      " dense_1 (Dense)             (None, 11)                1111      \n",
      "                                                                 \n",
      "=================================================================\n",
      "Total params: 581,511\n",
      "Trainable params: 81,511\n",
      "Non-trainable params: 500,000\n",
      "_________________________________________________________________\n",
      "None\n"
     ]
    }
   ],
   "source": [
    "# Model Building\n",
    "model = Sequential()\n",
    "model.add(embedding_layer)\n",
    "model.add(LSTM(100, dropout=0.2, recurrent_dropout=0.2))\n",
    "model.add(Dense(11, activation='softmax'))\n",
    "model.compile(loss='categorical_crossentropy', optimizer='adam', metrics=['accuracy'])\n",
    "print(model.summary())"
   ]
  },
  {
   "cell_type": "code",
   "execution_count": 19,
   "id": "9eec5821",
   "metadata": {},
   "outputs": [
    {
     "name": "stdout",
     "output_type": "stream",
     "text": [
      "Epoch 1/10\n",
      "87/87 [==============================] - 9s 75ms/step - loss: 2.1340 - accuracy: 0.2751 - val_loss: 2.0651 - val_accuracy: 0.3261\n",
      "Epoch 2/10\n",
      "87/87 [==============================] - 6s 68ms/step - loss: 2.0207 - accuracy: 0.3135 - val_loss: 2.0253 - val_accuracy: 0.3348\n",
      "Epoch 3/10\n",
      "87/87 [==============================] - 6s 70ms/step - loss: 1.9881 - accuracy: 0.3161 - val_loss: 2.0128 - val_accuracy: 0.3174\n",
      "Epoch 4/10\n",
      "87/87 [==============================] - 6s 71ms/step - loss: 1.9771 - accuracy: 0.3222 - val_loss: 1.9982 - val_accuracy: 0.3420\n",
      "Epoch 5/10\n",
      "87/87 [==============================] - 6s 71ms/step - loss: 1.9565 - accuracy: 0.3273 - val_loss: 2.0043 - val_accuracy: 0.3333\n",
      "Epoch 6/10\n",
      "87/87 [==============================] - 6s 70ms/step - loss: 1.9573 - accuracy: 0.3313 - val_loss: 2.0366 - val_accuracy: 0.3319\n",
      "Epoch 7/10\n",
      "87/87 [==============================] - 6s 71ms/step - loss: 1.9300 - accuracy: 0.3396 - val_loss: 1.9717 - val_accuracy: 0.3507\n",
      "Epoch 8/10\n",
      "87/87 [==============================] - 6s 73ms/step - loss: 1.9258 - accuracy: 0.3269 - val_loss: 1.9987 - val_accuracy: 0.3420\n",
      "Epoch 9/10\n",
      "87/87 [==============================] - 6s 74ms/step - loss: 1.9121 - accuracy: 0.3440 - val_loss: 1.9546 - val_accuracy: 0.3696\n",
      "Epoch 10/10\n",
      "87/87 [==============================] - 7s 75ms/step - loss: 1.8901 - accuracy: 0.3516 - val_loss: 1.9796 - val_accuracy: 0.3391\n"
     ]
    },
    {
     "data": {
      "text/plain": [
       "<keras.callbacks.History at 0x2617bb21520>"
      ]
     },
     "execution_count": 19,
     "metadata": {},
     "output_type": "execute_result"
    }
   ],
   "source": [
    "# Model Training\n",
    "model.fit(X_train, y_train, epochs=10, batch_size=32, validation_data=(X_test, y_test))\n"
   ]
  },
  {
   "cell_type": "code",
   "execution_count": 20,
   "id": "79d0e3bb",
   "metadata": {},
   "outputs": [
    {
     "name": "stdout",
     "output_type": "stream",
     "text": [
      "Accuracy: 33.91%\n"
     ]
    }
   ],
   "source": [
    "# Model Evaluation\n",
    "scores = model.evaluate(X_test, y_test, verbose=0)\n",
    "print(\"Accuracy: %.2f%%\" % (scores[1]*100))"
   ]
  },
  {
   "cell_type": "code",
   "execution_count": null,
   "id": "51d84800",
   "metadata": {},
   "outputs": [],
   "source": []
  }
 ],
 "metadata": {
  "kernelspec": {
   "display_name": "Python 3 (ipykernel)",
   "language": "python",
   "name": "python3"
  },
  "language_info": {
   "codemirror_mode": {
    "name": "ipython",
    "version": 3
   },
   "file_extension": ".py",
   "mimetype": "text/x-python",
   "name": "python",
   "nbconvert_exporter": "python",
   "pygments_lexer": "ipython3",
   "version": "3.9.12"
  }
 },
 "nbformat": 4,
 "nbformat_minor": 5
}
